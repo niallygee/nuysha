{
 "cells": [
  {
   "cell_type": "code",
   "execution_count": 24,
   "metadata": {},
   "outputs": [],
   "source": [
    "import matplotlib.pyplot as plt\n",
    "%matplotlib inline\n",
    "from scipy.optimize import curve_fit\n",
    "import pandas as pd\n",
    "import numpy as np"
   ]
  },
  {
   "cell_type": "markdown",
   "metadata": {},
   "source": [
    "**Question 1**"
   ]
  },
  {
   "cell_type": "markdown",
   "metadata": {},
   "source": [
    "**A**"
   ]
  },
  {
   "cell_type": "code",
   "execution_count": 2,
   "metadata": {},
   "outputs": [
    {
     "name": "stdout",
     "output_type": "stream",
     "text": [
      "Enter a temperature in °C: 30\n",
      "The corresponding temperature in Fahrenheit is 8.60e+01\n"
     ]
    }
   ],
   "source": [
    "#Write a program which asks the user to enter a temperature in Celsius and prints\n",
    "#to the screen the corresponding temperature in Fahrenheit, with two decimal\n",
    "#places.\n",
    "\n",
    "celsius = input(\"Enter a temperature in \\u00B0C: \")\n",
    "\n",
    "print(\"The corresponding temperature in Fahrenheit is\", f\"{int(celsius)*9/5 +32:.2e}\")"
   ]
  },
  {
   "cell_type": "markdown",
   "metadata": {},
   "source": [
    "**B**"
   ]
  },
  {
   "cell_type": "code",
   "execution_count": 3,
   "metadata": {},
   "outputs": [
    {
     "data": {
      "text/plain": [
       "86.0"
      ]
     },
     "execution_count": 3,
     "metadata": {},
     "output_type": "execute_result"
    }
   ],
   "source": [
    "def temp_convert(c):\n",
    "    return c*9/5+32\n",
    "\n",
    "temp_convert(30)"
   ]
  },
  {
   "cell_type": "markdown",
   "metadata": {},
   "source": [
    "**C**"
   ]
  },
  {
   "cell_type": "code",
   "execution_count": 4,
   "metadata": {},
   "outputs": [],
   "source": [
    "def conversion(str):\n",
    "    \n",
    "    #Splitting the string input into a 2-d array, then assigning each element to a variable\n",
    "    \n",
    "    split_temp = str.split(\" \", 1)\n",
    "    number = float(split_temp[0])\n",
    "    unit = split_temp[1]\n",
    "    \n",
    "    #Using if statements and the previous temperature conversion formula to scan the string,\n",
    "    #checkin the scale that was input,  convert the value into the remaining scales, \n",
    "    # and turn the values into a dictionary containing the appropraite scales. \n",
    "    \n",
    "    if (unit == \"c\" or unit == \"C\"):\n",
    "        answer = dict(Celsius = number, Fahrenheit = temp_convert(number), Kelvin = number+273.15,)\n",
    "        return answer\n",
    "    \n",
    "    elif(unit == \"k\" or unit == \"K\"):\n",
    "        cels = number - 273.15\n",
    "        answer = dict(Celsius = cels, Fahrenheit = temp_convert(cels), Kelvin = number)\n",
    "        return answer\n",
    "    \n",
    "    elif(unit == \"f\" or unit == \"F\"):\n",
    "        cels2 = (number-32)*5/9\n",
    "        answer = dict(Celsius = cels2, Fahrenheit = number, Kelvin = cels2 + 273.15)\n",
    "        return answer\n",
    "    \n",
    "    else: \n",
    "        return None"
   ]
  },
  {
   "cell_type": "code",
   "execution_count": 5,
   "metadata": {
    "scrolled": true
   },
   "outputs": [
    {
     "data": {
      "text/plain": [
       "{'Celsius': 30.0, 'Fahrenheit': 86.0, 'Kelvin': 303.15}"
      ]
     },
     "execution_count": 5,
     "metadata": {},
     "output_type": "execute_result"
    }
   ],
   "source": [
    "conversion(\"30 c\")"
   ]
  },
  {
   "cell_type": "code",
   "execution_count": 6,
   "metadata": {},
   "outputs": [
    {
     "data": {
      "text/plain": [
       "{'Celsius': 30.0, 'Fahrenheit': 86.0, 'Kelvin': 303.15}"
      ]
     },
     "execution_count": 6,
     "metadata": {},
     "output_type": "execute_result"
    }
   ],
   "source": [
    "conversion(\"303.15 k\")"
   ]
  },
  {
   "cell_type": "code",
   "execution_count": 7,
   "metadata": {},
   "outputs": [
    {
     "data": {
      "text/plain": [
       "{'Celsius': 30.0, 'Fahrenheit': 86.0, 'Kelvin': 303.15}"
      ]
     },
     "execution_count": 7,
     "metadata": {},
     "output_type": "execute_result"
    }
   ],
   "source": [
    "conversion(\"86 f\")"
   ]
  },
  {
   "cell_type": "code",
   "execution_count": 8,
   "metadata": {},
   "outputs": [],
   "source": [
    "conversion(\"30 r\")"
   ]
  },
  {
   "cell_type": "markdown",
   "metadata": {},
   "source": [
    "\n",
    "**D**"
   ]
  },
  {
   "cell_type": "code",
   "execution_count": 9,
   "metadata": {},
   "outputs": [
    {
     "name": "stdout",
     "output_type": "stream",
     "text": [
      "Enter a temperature with an appropriate scale: 30 d\n",
      "The temperature does not have an appropriate scale. Please try again.\n"
     ]
    }
   ],
   "source": [
    "g = input(\"Enter a temperature with an appropriate scale: \")\n",
    "if conversion(g) == None:\n",
    "    print(\"The temperature does not have an appropriate scale. Please try again.\")\n",
    "else:\n",
    "    print(conversion(g))"
   ]
  },
  {
   "cell_type": "markdown",
   "metadata": {},
   "source": [
    "**E**"
   ]
  },
  {
   "cell_type": "code",
   "execution_count": 63,
   "metadata": {},
   "outputs": [
    {
     "name": "stdout",
     "output_type": "stream",
     "text": [
      "Enter initial value, final value, and step size in degrees celsius(separated by a space): -20 50 5\n",
      "-20.0 \t -4.0 \n",
      "\n",
      "-15.0 \t 5.0 \n",
      "\n",
      "-10.0 \t 14.0 \n",
      "\n",
      "-5.0 \t 23.0 \n",
      "\n",
      "0.0 \t 32.0 \n",
      "\n",
      "5.0 \t 41.0 \n",
      "\n",
      "10.0 \t 50.0 \n",
      "\n",
      "15.0 \t 59.0 \n",
      "\n",
      "20.0 \t 68.0 \n",
      "\n",
      "25.0 \t 77.0 \n",
      "\n",
      "30.0 \t 86.0 \n",
      "\n",
      "35.0 \t 95.0 \n",
      "\n",
      "40.0 \t 104.0 \n",
      "\n",
      "45.0 \t 113.0 \n",
      "\n",
      "50.0 \t 122.0 \n",
      "\n"
     ]
    }
   ],
   "source": [
    "inp = input(\"Enter initial value, final value, and step size in degrees celsius(separated by a space): \")\n",
    "inp_split = inp.split(\" \", 2)\n",
    "\n",
    "init = float(inp_split[0])\n",
    "step = float(inp_split[2])\n",
    "final = float(inp_split[1])+step\n",
    "\n",
    "rng = np.arange(init, final, step)\n",
    "\n",
    "for i in rng:\n",
    "    fahr = temp_convert(i)\n",
    "    print(i, \"\\t\", fahr, \"\\n\")"
   ]
  },
  {
   "cell_type": "markdown",
   "metadata": {},
   "source": [
    "**F**"
   ]
  },
  {
   "cell_type": "code",
   "execution_count": 69,
   "metadata": {},
   "outputs": [
    {
     "name": "stdout",
     "output_type": "stream",
     "text": [
      "Enter initial value, final value, and step size in degrees celsius(separated by a space): -25 50 5\n"
     ]
    },
    {
     "ename": "TypeError",
     "evalue": "str() argument 2 must be str, not numpy.float64",
     "output_type": "error",
     "traceback": [
      "\u001b[1;31m---------------------------------------------------------------------------\u001b[0m",
      "\u001b[1;31mTypeError\u001b[0m                                 Traceback (most recent call last)",
      "\u001b[1;32m<ipython-input-69-d0ea8f12cf3e>\u001b[0m in \u001b[0;36m<module>\u001b[1;34m\u001b[0m\n\u001b[0;32m      9\u001b[0m \u001b[1;33m\u001b[0m\u001b[0m\n\u001b[0;32m     10\u001b[0m \u001b[1;32mfor\u001b[0m \u001b[0mi\u001b[0m \u001b[1;32min\u001b[0m \u001b[0mrng\u001b[0m\u001b[1;33m:\u001b[0m\u001b[1;33m\u001b[0m\u001b[1;33m\u001b[0m\u001b[0m\n\u001b[1;32m---> 11\u001b[1;33m     \u001b[0mfahr\u001b[0m \u001b[1;33m=\u001b[0m \u001b[0mstr\u001b[0m\u001b[1;33m(\u001b[0m\u001b[0mi\u001b[0m\u001b[1;33m,\u001b[0m \u001b[0mtemp_convert\u001b[0m\u001b[1;33m(\u001b[0m\u001b[0mi\u001b[0m\u001b[1;33m)\u001b[0m\u001b[1;33m)\u001b[0m\u001b[1;33m\u001b[0m\u001b[1;33m\u001b[0m\u001b[0m\n\u001b[0m\u001b[0;32m     12\u001b[0m \u001b[1;33m\u001b[0m\u001b[0m\n",
      "\u001b[1;31mTypeError\u001b[0m: str() argument 2 must be str, not numpy.float64"
     ]
    }
   ],
   "source": [
    "inp = input(\"Enter initial value, final value, and step size in degrees celsius(separated by a space): \")\n",
    "inp_split = inp.split(\" \", 2)\n",
    "\n",
    "init = float(inp_split[0])\n",
    "step = float(inp_split[2])\n",
    "final = float(inp_split[1])+step\n",
    "\n",
    "rng = np.arange(init, final, step)\n",
    "\n",
    "for i in rng:\n",
    "    fahr = str(i, temp_convert(i))\n",
    "    "
   ]
  }
 ],
 "metadata": {
  "kernelspec": {
   "display_name": "Python 3",
   "language": "python",
   "name": "python3"
  },
  "language_info": {
   "codemirror_mode": {
    "name": "ipython",
    "version": 3
   },
   "file_extension": ".py",
   "mimetype": "text/x-python",
   "name": "python",
   "nbconvert_exporter": "python",
   "pygments_lexer": "ipython3",
   "version": "3.7.3"
  }
 },
 "nbformat": 4,
 "nbformat_minor": 2
}
