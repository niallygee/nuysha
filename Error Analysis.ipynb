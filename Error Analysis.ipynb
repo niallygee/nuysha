{
 "cells": [
  {
   "cell_type": "code",
   "execution_count": 1,
   "metadata": {},
   "outputs": [],
   "source": [
    "import numpy as np\n",
    "from scipy import stats"
   ]
  },
  {
   "cell_type": "markdown",
   "metadata": {},
   "source": [
    "# ***Question 1***"
   ]
  },
  {
   "cell_type": "markdown",
   "metadata": {},
   "source": [
    "# ***A***"
   ]
  },
  {
   "cell_type": "markdown",
   "metadata": {},
   "source": [
    "The average counts in one hour is 50.\n",
    "\n",
    "The average counts for a 30s exposure is then $$\\mu = \\frac{50}{120} = 0.4167$$"
   ]
  },
  {
   "cell_type": "code",
   "execution_count": 2,
   "metadata": {},
   "outputs": [],
   "source": [
    "mu = 50/120"
   ]
  },
  {
   "cell_type": "markdown",
   "metadata": {},
   "source": [
    "The required probability is $$P(n=1) = e^{-\\mu} \\frac{\\mu^n}{n!}$$"
   ]
  },
  {
   "cell_type": "code",
   "execution_count": 3,
   "metadata": {},
   "outputs": [
    {
     "data": {
      "text/plain": [
       "'2.7468e-01'"
      ]
     },
     "execution_count": 3,
     "metadata": {},
     "output_type": "execute_result"
    }
   ],
   "source": [
    "def poisson(n):\n",
    "    return  np.exp(-mu)*(mu**n)/np.math.factorial(n)\n",
    "f\"{poisson(1):.4e}\""
   ]
  },
  {
   "cell_type": "markdown",
   "metadata": {},
   "source": [
    "# ***B***"
   ]
  },
  {
   "cell_type": "markdown",
   "metadata": {},
   "source": [
    "The required probability is $$P(n\\geq1) = 1 - P(n = 0)$$"
   ]
  },
  {
   "cell_type": "code",
   "execution_count": 4,
   "metadata": {},
   "outputs": [
    {
     "data": {
      "text/plain": [
       "'3.4076e-01'"
      ]
     },
     "execution_count": 4,
     "metadata": {},
     "output_type": "execute_result"
    }
   ],
   "source": [
    "q2 = 1 - poisson(0)\n",
    "f\"{q2:.4e}\""
   ]
  },
  {
   "cell_type": "markdown",
   "metadata": {},
   "source": [
    "# ***C*** "
   ]
  },
  {
   "cell_type": "markdown",
   "metadata": {},
   "source": [
    "We must use a binomial distribution with the probability calculated in part B"
   ]
  },
  {
   "cell_type": "code",
   "execution_count": 5,
   "metadata": {},
   "outputs": [
    {
     "data": {
      "text/plain": [
       "'9.8450e-01'"
      ]
     },
     "execution_count": 5,
     "metadata": {},
     "output_type": "execute_result"
    }
   ],
   "source": [
    "q3 = 1 - (1 - q2)**10\n",
    "f\"{q3:.4e}\""
   ]
  },
  {
   "cell_type": "markdown",
   "metadata": {},
   "source": [
    "# ***Question 2***"
   ]
  },
  {
   "cell_type": "markdown",
   "metadata": {},
   "source": [
    "# ***A***"
   ]
  },
  {
   "cell_type": "markdown",
   "metadata": {},
   "source": [
    "The time of the fastest runners is given by the Standard Error \n",
    "\n",
    "\n",
    "Standard Error: $$\\sigma_x = \\frac{\\sigma}{\\sqrt{n}}$$"
   ]
  },
  {
   "cell_type": "code",
   "execution_count": 7,
   "metadata": {},
   "outputs": [
    {
     "name": "stdout",
     "output_type": "stream",
     "text": [
      "0.0030579223926264845\n"
     ]
    }
   ],
   "source": [
    "def Standard_Error(sig, n):\n",
    "    return sig/np.sqrt(n)\n",
    "Er_Ire = Standard_Error(1, 50000)\n",
    "Er_Uk = Standard_Error(1, 500000)\n",
    "print(np.abs(Er_Uk - Er_Ire))"
   ]
  },
  {
   "cell_type": "markdown",
   "metadata": {},
   "source": [
    "# ***B***"
   ]
  },
  {
   "cell_type": "markdown",
   "metadata": {},
   "source": [
    "The standard deviation for a 400m race is given by:\n",
    "\n",
    "$$\\sigma_{400} = \\sqrt{4\\cdot\\sigma_{100}^{2}} = 2$$"
   ]
  },
  {
   "cell_type": "code",
   "execution_count": 9,
   "metadata": {},
   "outputs": [
    {
     "name": "stdout",
     "output_type": "stream",
     "text": [
      "0.006115844785252969\n"
     ]
    }
   ],
   "source": [
    "Er_Ire_400 = Standard_Error(2, 50000)\n",
    "Er_Uk_400 = Standard_Error(2, 500000)\n",
    "print(np.abs(Er_Uk_400 - Er_Ire_400))"
   ]
  },
  {
   "cell_type": "markdown",
   "metadata": {},
   "source": [
    "# ***Question 3***"
   ]
  },
  {
   "cell_type": "code",
   "execution_count": 15,
   "metadata": {},
   "outputs": [
    {
     "data": {
      "text/plain": [
       "1.503163697708272"
      ]
     },
     "execution_count": 15,
     "metadata": {},
     "output_type": "execute_result"
    }
   ],
   "source": [
    "def snell(n1, t1, t2):\n",
    "    #Convert the angle in degrees to radians so that it suits the np.sin function\n",
    "\n",
    "    t1_rad = t1*2*np.pi/360\n",
    "    t2_rad = t2*2*np.pi/360\n",
    "    return n1*np.sin(t1_rad)/np.sin(t2_rad)\n",
    "\n",
    "snell(1, 22.03, 14.45)"
   ]
  },
  {
   "cell_type": "markdown",
   "metadata": {},
   "source": [
    "The uncertainty is determined by: $$\\delta n_2 = n_2 \\sqrt{\\left(\\frac{\\delta\\theta_1}{\\theta_1}\\right)^2+\\left( \\frac{\\delta\\theta_2}{\\theta_2}\\right) ^2}$$"
   ]
  },
  {
   "cell_type": "code",
   "execution_count": 44,
   "metadata": {},
   "outputs": [
    {
     "data": {
      "text/plain": [
       "0.024828887070171085"
      ]
     },
     "execution_count": 44,
     "metadata": {},
     "output_type": "execute_result"
    }
   ],
   "source": [
    "def prop_errors(subject, p1, d1, p2, d2):\n",
    "    return subject*np.sqrt((d1/p1)**2 + (d2/p2)**2)\n",
    "prop_errors(1.5, 22.03, 0.2, 14.45, 0.2)"
   ]
  },
  {
   "cell_type": "markdown",
   "metadata": {},
   "source": [
    "This answer is fairly reasonable as the % error on the original values were extremely small, and this should propagate through to a similar small value in the final answer"
   ]
  },
  {
   "cell_type": "markdown",
   "metadata": {},
   "source": [
    "# ***Question 4***"
   ]
  },
  {
   "cell_type": "markdown",
   "metadata": {},
   "source": [
    "# ***A***"
   ]
  },
  {
   "cell_type": "code",
   "execution_count": 48,
   "metadata": {},
   "outputs": [
    {
     "name": "stdout",
     "output_type": "stream",
     "text": [
      "Diameter = 2.002 ± 0.03944109531947612\n",
      "Height = 5.023999999999999 ± 0.03803156583681502\n"
     ]
    }
   ],
   "source": [
    "data=np.loadtxt(\"cylinder.txt\")\n",
    "diameter=data[:, 0]\n",
    "radius = diameter/2\n",
    "height= data[:,1]\n",
    "mean_d, mean_h = np.mean(diameter), np.mean(height)\n",
    "uncert_d , uncert_h = np.std(diameter)/np.sqrt(len(diameter)), np.std(height)/np.sqrt(len(height))\n",
    "\n",
    "print(\"Diameter =\", mean_d, \"\\u00B1\", uncert_d)\n",
    "print(\"Height =\", mean_h, \"\\u00B1\", uncert_h)"
   ]
  },
  {
   "cell_type": "markdown",
   "metadata": {},
   "source": [
    "# ***B***"
   ]
  },
  {
   "cell_type": "code",
   "execution_count": 49,
   "metadata": {},
   "outputs": [
    {
     "name": "stdout",
     "output_type": "stream",
     "text": [
      "Volume =  15.814943997979874 ± 0.16109690256671289\n"
     ]
    }
   ],
   "source": [
    "volume = np.pi*mean_h*np.mean(radius)**2\n",
    "uncert_vol = prop_errors(volume, np.mean(radius), 0.01, mean_h, 0.01)\n",
    "print(\"Volume = \", volume, \"\\u00B1\", uncert_vol)"
   ]
  },
  {
   "cell_type": "markdown",
   "metadata": {},
   "source": [
    "# ***C***"
   ]
  },
  {
   "cell_type": "code",
   "execution_count": 131,
   "metadata": {},
   "outputs": [
    {
     "name": "stdout",
     "output_type": "stream",
     "text": [
      "Volume = 15.598849471904483 ± 0.4221235725655904\n",
      "Volume = 17.93185900831334 ± 0.3916957277101279\n",
      "Volume = 14.602267167147424 ± 0.4270152804306852\n",
      "Volume = 15.508333904369252 ± 0.4222092683355203\n",
      "Volume = 19.74085717328872 ± 0.37473768713230676\n",
      "Volume = 15.460066474839504 ± 0.4076338473697116\n",
      "Volume = 11.93019810200724 ± 0.4716794837138332\n",
      "Volume = 14.223990351923167 ± 0.437506335295123\n",
      "Volume = 16.995030581225713 ± 0.4008618493824292\n",
      "Volume = 16.826762951708627 ± 0.401024217630456\n"
     ]
    }
   ],
   "source": [
    "def volume(h, r):\n",
    "    return np.pi*h*r**2\n",
    "vols1 = volume(height, radius)\n",
    "er_vols = prop_errors(vols, radius, 0.01, height, 0.01)\n",
    "tup = list(vols1) + list(er_vols)\n",
    "h = len(tup)//2\n",
    "for i in range(h):\n",
    "    print(\"Volume =\", tup[i],\"\\u00B1\", tup[h + i])"
   ]
  },
  {
   "cell_type": "code",
   "execution_count": 132,
   "metadata": {},
   "outputs": [
    {
     "name": "stdout",
     "output_type": "stream",
     "text": [
      "Volume = 15.881821518672746 ± 0.4156487269565784\n"
     ]
    }
   ],
   "source": [
    "fin_mean, fin_uncert = np.mean(vols1), np.mean(er_vols)\n",
    "print(\"Volume =\", fin_mean,\"\\u00B1\", fin_uncert)"
   ]
  },
  {
   "cell_type": "markdown",
   "metadata": {},
   "source": [
    "There is only a small difference in the value when the volume is calculated individually and with the mean. However, when the uncertainty is calculated by Propogation of Errors, it is much smaller than when it is calculated individually. "
   ]
  }
 ],
 "metadata": {
  "kernelspec": {
   "display_name": "Python 3",
   "language": "python",
   "name": "python3"
  },
  "language_info": {
   "codemirror_mode": {
    "name": "ipython",
    "version": 3
   },
   "file_extension": ".py",
   "mimetype": "text/x-python",
   "name": "python",
   "nbconvert_exporter": "python",
   "pygments_lexer": "ipython3",
   "version": "3.7.3"
  }
 },
 "nbformat": 4,
 "nbformat_minor": 2
}
